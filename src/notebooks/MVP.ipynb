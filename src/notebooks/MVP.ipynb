{
  "cells": [
    {
      "cell_type": "markdown",
      "metadata": {
        "id": "tFapqm8rQ1DA"
      },
      "source": [
        "# MVP - Qualidade de Software, Segurança e Sistemas Inteligentes - Bruno Rubén Favorito Balbuena"
      ]
    },
    {
      "cell_type": "markdown",
      "metadata": {
        "id": "Ap1M0EreTrMU"
      },
      "source": [
        "#### O objetivo deste *notebook* é treinar um modelo de *machine learning* em cima da base de dados  \"[Titanic - Machine Learning from Disaster](https://www.kaggle.com/c/titanic)\", que deverá  prever se um passageiro teria sobrevivido ao naufrágio do Titanic, com base em atributos a serem descritos logo abaixo. O foco está na construção de um *pipeline* completo de classificação, incluindo pré-processamento, avaliação com validação cruzada, ajuste de hiperparâmetros e comparação entre algoritmos."
      ]
    },
    {
      "cell_type": "markdown",
      "metadata": {
        "id": "OQX6TGHMZ8wZ"
      },
      "source": [
        "####Dicionário de Dados"
      ]
    },
    {
      "cell_type": "markdown",
      "metadata": {
        "id": "szhFWb1EXS5a"
      },
      "source": [
        "| **Atributo** | **Definição**                                | **Valor**                                      |\n",
        "| ------------ | -------------------------------------------- | ---------------------------------------------- |\n",
        "| Survived     | Sobrevivência do passageiro(a)               | 0 = Não, 1 = Sim                               |\n",
        "| Name         | Nome do passageiro(a)                        | —                                              |\n",
        "| PassengerId  | ID do passageiro(a)                          | —                                              |\n",
        "| Pclass       | Classe do ticket                             | 1 = 1ª, 2 = 2ª, 3 = 3ª                         |\n",
        "| Sex          | Gênero                                       | —                                              |\n",
        "| Age          | Idade (anos)                                 | —                                              |\n",
        "| SibSp        | Nº de irmãos(ãs)/cônjuges a bordo do Titanic | —                                              |\n",
        "| Parch        | Nº de pais/filhos(as) a bordo do Titanic     | —                                              |\n",
        "| Ticket       | Número do ticket                             | —                                              |\n",
        "| Fare         | Tarifa paga pelo passageiro(a)               | —                                              |\n",
        "| Cabin        | Número da cabine                             | —                                              |\n",
        "| Embarked     | Porto de embarque                            | C = Cherbourg, Q = Queenstown, S = Southampton |\n"
      ]
    },
    {
      "cell_type": "markdown",
      "metadata": {
        "id": "Ls6gKqeXvQGl"
      },
      "source": [
        "<ul>\n",
        "<li> Pclass: Um proxy para status socioeconômico </li>\n",
        "<ul>\n",
        "<li> 1ª = Alta </li>\n",
        "<li> 2ª = Média </li>\n",
        "<li> 3ª = Baixa </li>\n",
        "</ul>\n",
        "\n",
        "\n",
        "<li>Age: Idade é uma fração se for menor que 1. Se a idade for estimada, será na formato xx.5</li>\n",
        "\n",
        "<li>SibSp: A base de dados define relações familiares da seguinte forma: </li>\n",
        "Irmãos(ãs): irmão, irmã, meio-irmão, meia-irmã <br />\n",
        "Cônjuge: esposo, esposa (amantes e noivos não são levados em consideração)\n",
        "<li>Parch: A base de dados define relações familiares da seguinte forma:.</li>\n",
        "Pais: mãe, pai <br />\n",
        "Filhos(as): filha, filho, enteado, enteada <br />\n",
        "Algumas crianças viajaram somente com uma babá, então parch=0 para esses casos.\n",
        "</ul>"
      ]
    },
    {
      "cell_type": "markdown",
      "metadata": {
        "id": "XlFTLACYOMmo"
      },
      "source": [
        "## Importação de bibliotecas"
      ]
    },
    {
      "cell_type": "code",
      "execution_count": null,
      "metadata": {
        "id": "GjW9uYhU2PKk"
      },
      "outputs": [],
      "source": [
        "import pickle\n",
        "import pandas as pd\n",
        "import numpy as np\n",
        "from sklearn.preprocessing import LabelEncoder\n",
        "from sklearn.preprocessing import StandardScaler\n",
        "from sklearn.preprocessing import MinMaxScaler\n",
        "from sklearn.model_selection import train_test_split\n",
        "from sklearn.model_selection import StratifiedKFold\n",
        "from sklearn.model_selection import cross_val_score\n",
        "from sklearn.model_selection import GridSearchCV\n",
        "from sklearn.metrics import accuracy_score\n",
        "from sklearn.pipeline import Pipeline\n",
        "from sklearn.tree import DecisionTreeClassifier\n",
        "from sklearn.neighbors import KNeighborsClassifier\n",
        "from sklearn.naive_bayes import GaussianNB\n",
        "from sklearn.svm import SVC"
      ]
    },
    {
      "cell_type": "markdown",
      "metadata": {
        "id": "qd87Y_fBItxw"
      },
      "source": [
        "## Constantes globais"
      ]
    },
    {
      "cell_type": "markdown",
      "metadata": {
        "id": "iQAwdQK1LyZD"
      },
      "source": [
        "* SEED: Declarei a semente de aleatoriedade como uma variável global para garantir a reprodutibilidade dos resultados, especialmente no embaralhamento dos dados, ao executar o código múltiplas vezes.\n",
        "* TEST_SIZE: Defini a proporção do conjunto de teste como 20%, adotando a divisão comum 80/20 utilizada no método *Holdout*.\n",
        "* N_SPLITS: Número de divisões (*folds*) a serem utilizadas na validação cruzada estratificada. O valor foi escolhido por ser um dos padrões mais comuns e equilibrar bem entre viés e variância.\n",
        "* SCORING: Métrica utilizada para avaliar a performance do modelo. Como se trata de um problema de classificação, optei por uma das métricas mais comuns e interpretáveis nesse tipo de tarefa."
      ]
    },
    {
      "cell_type": "code",
      "execution_count": null,
      "metadata": {
        "id": "Hh23CBANIwax"
      },
      "outputs": [],
      "source": [
        "SEED = 1\n",
        "TEST_SIZE = 0.20\n",
        "N_SPLITS = 10\n",
        "SCORING = 'accuracy'"
      ]
    },
    {
      "cell_type": "markdown",
      "metadata": {
        "id": "P66X4a8Xzg2i"
      },
      "source": [
        "## Carga da base de dados"
      ]
    },
    {
      "cell_type": "markdown",
      "metadata": {
        "id": "x9dvPh4u0J8M"
      },
      "source": [
        "Realizei o download do arquivo **train.csv** e o carreguei em um repositório do GitHub. Utilizando a biblioteca **pandas**, fiz a leitura do arquivo e imprimi informações básicas sobre a base de dados. Essa base contém 891 tuplas e 12 atributos, conforme descrito no dicionário de dados."
      ]
    },
    {
      "cell_type": "code",
      "execution_count": null,
      "metadata": {
        "colab": {
          "base_uri": "https://localhost:8080/"
        },
        "id": "V9HplRJ88x4h",
        "outputId": "d0457dfa-bab0-4391-be22-0873f673aa7b"
      },
      "outputs": [
        {
          "output_type": "stream",
          "name": "stdout",
          "text": [
            "<class 'pandas.core.frame.DataFrame'>\n",
            "RangeIndex: 891 entries, 0 to 890\n",
            "Data columns (total 12 columns):\n",
            " #   Column       Non-Null Count  Dtype  \n",
            "---  ------       --------------  -----  \n",
            " 0   PassengerId  891 non-null    int64  \n",
            " 1   Survived     891 non-null    int64  \n",
            " 2   Pclass       891 non-null    int64  \n",
            " 3   Name         891 non-null    object \n",
            " 4   Sex          891 non-null    object \n",
            " 5   Age          714 non-null    float64\n",
            " 6   SibSp        891 non-null    int64  \n",
            " 7   Parch        891 non-null    int64  \n",
            " 8   Ticket       891 non-null    object \n",
            " 9   Fare         891 non-null    float64\n",
            " 10  Cabin        204 non-null    object \n",
            " 11  Embarked     889 non-null    object \n",
            "dtypes: float64(2), int64(5), object(5)\n",
            "memory usage: 83.7+ KB\n"
          ]
        }
      ],
      "source": [
        "datasetUrl = \"https://raw.githubusercontent.com/Bansuk/titanic-survival-prediction-back-end/refs/heads/main/src/data/train.csv\"\n",
        "dataframe = pd.read_csv(datasetUrl)\n",
        "dataframe.info()"
      ]
    },
    {
      "cell_type": "markdown",
      "metadata": {
        "id": "WEOvMsFpUoiE"
      },
      "source": [
        "## Tratamento dos atributos e dados ausentes"
      ]
    },
    {
      "cell_type": "markdown",
      "metadata": {
        "id": "OfQ9zhesYAXZ"
      },
      "source": [
        "Realizei o tratamento de dados ausentes e não-númericos, tornando-os adequados como *input* para os algoritmos do **scikit-learn**, com base em uma cópia do **DataFrame** original.\n",
        "\n",
        "* Preenchimento de dados ausentes\n",
        "<ul>\n",
        "  <li><b>Age</b>: Substitui os valores vazios pela mediana da idade com base em atributos correlacionados dentro desse contexto de dados. (Como ainda restaram valores <b>NaN</b> ao utilizar todos os atributos abaixo, adicionei uma segunda imputação com um grupo reduzido de atributos.)</li>\n",
        "  \n",
        "  <ul>\n",
        "    <li><b>Sex</b>: O sexo do passageiro(a) pode influenciar sua idade média, especialmente considerando papéis sociais históricos;</li>\n",
        "    <li><b>Pclass</b>: Classes mais altas tendem a estar associadas a passageiros mais velhos e com maior poder aquisitivo;</li>\n",
        "    <li><b>Title</b>: Reflete o papel social do passageiro, o que pode indicar sua idade (extração feita a partir do atributo <b>Name</b>);</li>\n",
        "    <li><b>SibSp e Parch</b>: Passageiros com irmãos, cônjuges, pais ou filhos a bordo tendem a estar em faixas etárias específicas (por exemplo, ter filhos pode indicar maior idade; estar com os pais, menor idade).</li>\n",
        "  </ul>\n",
        "  <li><b>Embarked</b>: Há apenas duas tuplas sem a informação sobre embarque, ambas mulheres com o mesmo valor para ticket, cabine e tarifa. Como são apenas dois dados faltantes e não encontrei outros(as) passageiros(as) com valores mencionados similares, optei por preencher com a moda de <b>Embarked</b> para tickets de mesma classe dessas duas, no caso, 1ª classe.</li>\n",
        "  <li><b>Cabin</b>: Como 77.1% da base não possui o valor de <b>Cabin</b> preenchido, e julgo esse atributo potencialmente relevante (por poder representar a localização do passageiro(a) no navio, o que pode ter influenciado a sobrevivência, principalmente considerando que o impacto ocorreu à noite), optei por não imputar valores arbitrários. Em vez disso, criei um novo atributo binário <b>HasCabin</b>, que indica se o passageiro possui uma cabine registrada — o que pode, por exemplo, estar associado à classe social.</li>\n",
        "</ul>\n",
        "* Codificação de variáveis categóricas\n",
        "<ul>\n",
        "  <li><b>Sex</b>: Converti os valores de texto <i>female</i> e <i>male</i> em 0 e 1, respectivamente.</li>\n",
        "  <li><b>Embarked</b>: Apliquei codificação, gerando colunas binárias para cada porto de embarque. Para evitar multicolinearidade, descartei a primeira coluna gerada.</li>\n",
        "</ul>\n",
        "</ul>\n",
        "\n",
        "Removi os seguintes atributos dos dados de entrada:\n",
        "* **PassengerId**: Apenas representa a ordem dos dados dos passageiros(as).\n",
        "* **Ticket**: Valor aleatório sem relação com os demais atributos.\n",
        "* **Name**: Não possui correlação com o resultado, apenas sendo útil para extração da informação de título.\n",
        "* **Cabin**: Grande maioria das tuplas está com esse valor vazio. Utilizado para criar o atributo **HasCabin**.\n",
        "* **Survived**: Dado de saída, sendo o valor previsto."
      ]
    },
    {
      "cell_type": "code",
      "execution_count": null,
      "metadata": {
        "id": "chUzGFL8U1RP"
      },
      "outputs": [],
      "source": [
        "df = dataframe.copy()\n",
        "le = LabelEncoder()\n",
        "\n",
        "df['Title'] = df['Name'].str.extract(r' ([A-Za-z]+)\\.', expand=False)\n",
        "df['Age'] = df.groupby(['Sex', 'Pclass', 'Title', 'SibSp', 'Parch'])['Age'].transform(lambda x: x.fillna(x.median()))\n",
        "df['Age'] = df.groupby(['Sex', 'Pclass'])['Age'].transform(lambda x: x.fillna(x.median()))\n",
        "age_medians = df.groupby(['Sex', 'Pclass', 'Title', 'SibSp', 'Parch'])['Age'].median()\n",
        "age_medians_overall = df.groupby(['Sex', 'Pclass'])['Age'].median()\n",
        "df = df.drop('Title', axis=1)\n",
        "embarked_mode_pclass1 = df[df['Pclass'] == 1]['Embarked'].mode()[0]\n",
        "\n",
        "df.loc[df['Embarked'].isnull() & (df['Pclass'] == 1), 'Embarked'] = df[df['Pclass'] == 1]['Embarked'].mode()[0]\n",
        "df['HasCabin'] = df['Cabin'].notnull().astype(int)\n",
        "\n",
        "df['Sex'] = le.fit_transform(df['Sex'])\n",
        "df = pd.get_dummies(df, columns=['Embarked'], prefix='Embarked', drop_first=True)\n",
        "\n",
        "X = df.drop(columns=['PassengerId', 'Ticket', 'Name', 'Cabin', 'Survived'])\n",
        "X[X.select_dtypes('bool').columns] = X.select_dtypes('bool').astype(int)\n",
        "y = df['Survived']"
      ]
    },
    {
      "cell_type": "markdown",
      "metadata": {
        "id": "RCCvju2s7C79"
      },
      "source": [
        "##Aplicação do Método de *Holdout*"
      ]
    },
    {
      "cell_type": "markdown",
      "metadata": {
        "id": "sqysFGvzcXat"
      },
      "source": [
        "Realizei a separação dos dados em conjuntos de treino e teste utilizando embaralhamento para evitar viés decorrente da ordenação original. Para garantir reprodutibilidade, fixei uma semente aleatória. Além disso, apliquei estratificação com base no atributo alvo, de forma que ambos os conjuntos preservem a proporção de passageiros sobreviventes e não sobreviventes."
      ]
    },
    {
      "cell_type": "code",
      "execution_count": null,
      "metadata": {
        "id": "IgzDaBvHcRg4"
      },
      "outputs": [],
      "source": [
        "X_train, X_test, y_train, y_test = train_test_split(X, y,\n",
        "    test_size=TEST_SIZE, shuffle=True, random_state=SEED, stratify=y)"
      ]
    },
    {
      "cell_type": "markdown",
      "metadata": {
        "id": "Yb1aY6NLLEx6"
      },
      "source": [
        "## Modelagem"
      ]
    },
    {
      "cell_type": "markdown",
      "metadata": {
        "id": "loAz-s-0NhoE"
      },
      "source": [
        "### Criação e avaliação dos algoritmos KNN (K-vizinhos mais próximos), CART (Árvore de classificação e regressão), NB (Naive Bayes) e SVM (Máquina de vetor de suporte): sem tratamento, padronizado e normalizado"
      ]
    },
    {
      "cell_type": "markdown",
      "metadata": {
        "id": "3FkAdqJVoYTS"
      },
      "source": [
        "Para tratar o dilema viés x variância, utilizei a validação cruzada estratificada com embaralhamento dos dados.\n",
        "<ol>\n",
        "  <li>Inicializei o gerador de números aleatórios para garantir a reprodutibilidade dos dados em todas as execuções.</li>\n",
        "  <li>Obtive as divisões estratificadas a serem utilizadas na validação cruzada.</li>\n",
        "  <li>Instanciei 4 algoritmos de classificação (sem configurações adicionais):\n",
        "  <ul>\n",
        "    <li>K-vizinhos mais próximos</li>\n",
        "    <li>Árvore de classificação e regressão</li>\n",
        "    <li>Naive Bayes</li>\n",
        "    <li>Máquinas de vetores de suporte</li>\n",
        "  </ul>\n",
        "  </li>\n",
        "  <li>Para evitar que atributos com escalas maiores dominassem o treinamento, defini três formas de pré-processamento:\n",
        "    <ul>\n",
        "      <li>Valores sem tratamento (original)</li>\n",
        "      <li>Valores padronizados: transformando os dados para terem média 0 e desvio padrão 1.</li>\n",
        "      <li>Valores normalizados: redimensiona os dados para o intervalo entre 0 e 1.</li>\n",
        "    </ul>\n",
        "  </li>\n",
        "  <li>Criei <i>pipelines</i> para cada combinação possível entre algoritmos e pré-processadores</li>\n",
        "  <li>Para cada <i>pipeline</i>, executei a validação cruzada estratificada com 10 divisões, utilizando todos os núcleos da máquina para acelerar o processo.</li>\n",
        "  <li>Organizei os <i>outputs</i> pela média dos resultados, acompanhada do desvio padrão, em ordem decrescente.</li>\n",
        "</ol>"
      ]
    },
    {
      "cell_type": "code",
      "execution_count": null,
      "metadata": {
        "colab": {
          "base_uri": "https://localhost:8080/"
        },
        "id": "K2mksSFpMUx6",
        "outputId": "452a5518-8cf9-48b0-bfde-786adb47cd54"
      },
      "outputs": [
        {
          "output_type": "stream",
          "name": "stdout",
          "text": [
            "Avaliação dos Resultados\n",
            "--------------------------------------------------\n",
            "SVM-standard: Média=0.8062, Desvio Padrão=0.0356\n",
            "SVM-normalization: Média=0.7964, Desvio Padrão=0.0532\n",
            "KNN-standard: Média=0.7922, Desvio Padrão=0.0586\n",
            "KNN-normalization: Média=0.7880, Desvio Padrão=0.0522\n",
            "NB-original: Média=0.7781, Desvio Padrão=0.0419\n",
            "NB-standard: Média=0.7781, Desvio Padrão=0.0419\n",
            "NB-normalization: Média=0.7781, Desvio Padrão=0.0419\n",
            "CART-normalization: Média=0.7599, Desvio Padrão=0.0529\n",
            "CART-standard: Média=0.7584, Desvio Padrão=0.0345\n",
            "CART-original: Média=0.7472, Desvio Padrão=0.0465\n",
            "KNN-original: Média=0.7078, Desvio Padrão=0.0301\n",
            "SVM-original: Média=0.6700, Desvio Padrão=0.0378\n"
          ]
        }
      ],
      "source": [
        "np.random.seed(SEED)\n",
        "kfold = StratifiedKFold(n_splits=N_SPLITS, shuffle=True, random_state=SEED)\n",
        "\n",
        "algorithms = {\n",
        "    'KNN': KNeighborsClassifier(),\n",
        "    'CART': DecisionTreeClassifier(),\n",
        "    'NB': GaussianNB(),\n",
        "    'SVM': SVC()\n",
        "}\n",
        "\n",
        "preprocessors = {\n",
        "    'original': None,\n",
        "    'standard': StandardScaler(),\n",
        "    'normalization': MinMaxScaler()\n",
        "}\n",
        "\n",
        "pipelines = {}\n",
        "results = {}\n",
        "\n",
        "def set_pipelines(preprocessors, algorithms, pipelines):\n",
        "  for preprocessor_name, preprocessor in preprocessors.items():\n",
        "    for model_name, model in algorithms.items():\n",
        "        pipeline_name = f\"{model_name}-{preprocessor_name}\"\n",
        "\n",
        "        if preprocessor is None:\n",
        "            pipeline_steps = [(model_name.lower(), model)]\n",
        "        else:\n",
        "            pipeline_steps = [\n",
        "                (f\"{preprocessor_name}_scaler\", preprocessor),\n",
        "                (model_name.lower(), model)\n",
        "            ]\n",
        "\n",
        "        pipelines[pipeline_name] = Pipeline(pipeline_steps)\n",
        "\n",
        "set_pipelines(preprocessors, algorithms, pipelines)\n",
        "\n",
        "for name, pipeline in pipelines.items():\n",
        "      cv_results = cross_val_score(\n",
        "          pipeline, X_train, y_train,\n",
        "          cv=kfold, scoring=SCORING, n_jobs=-1\n",
        "      )\n",
        "      results[name] = cv_results\n",
        "\n",
        "sorted_results = sorted(\n",
        "    results.items(),\n",
        "    key=lambda x: x[1].mean(),\n",
        "    reverse=True\n",
        ")\n",
        "\n",
        "print(\"Avaliação dos Resultados\")\n",
        "print(\"-\" * 50)\n",
        "for name, scores in sorted_results:\n",
        "    print(f\"{name}: Média={scores.mean():.4f}, Desvio Padrão={scores.std():.4f}\")"
      ]
    },
    {
      "cell_type": "markdown",
      "metadata": {
        "id": "w0jsjX24UCUg"
      },
      "source": [
        "### Otimização de hiperparâmetros"
      ]
    },
    {
      "cell_type": "markdown",
      "metadata": {
        "id": "oRu9c81AUP3A"
      },
      "source": [
        "Em busca de tornar o modelo ainda melhor para solucionar o problema, farei o *tuning* para o melhor algoritmo encontrado: o SVM padronizado. Essa técnica consiste em ajustar os hiperparâmetros do algoritmo para adaptá-lo ao problema em questão. Para isso, utilizarei o GridSearchCV que consiste na montagem de um *grid* com a combinação entre os hiperparâmetros fornecidos e um conjunto de valores a serem avaliados. Para cada combinação, um modelo é construído e avaliado utilizando validação cruzada.  <br />\n",
        "O conjunto de hiperparâmetros para o algoritmo SVM foi composto da seguinte forma:\n",
        "*   Kernel: função matemática que transforma os dados em um espaço de maior dimensionalidade. O kernel linear é simples e direto, enquanto o kernel RBF (Função de Base Radial) é mais flexível e lida melhor com dados não lineares.\n",
        "*   C: controla a penalidade por classificações incorretas; quanto maior, menos tolerante o modelo é a erros no treinamento.\n",
        "*   Gamma: define a influência de cada exemplo de treino (utilizado apenas no kernel RBF).\n",
        "<br />\n",
        "\n",
        "Foram definidos dois conjuntos de hiperparâmetros: um conjunto completo com 400 combinações (executado previamente) e um conjunto reduzido baseado nos melhores resultados, com apenas 10 combinações, que é o utilizado no código a seguir por questões de desempenho."
      ]
    },
    {
      "cell_type": "code",
      "execution_count": null,
      "metadata": {
        "colab": {
          "base_uri": "https://localhost:8080/"
        },
        "id": "6jGo9WkmUQ25",
        "outputId": "9f94e395-2f2e-481e-cd8c-1cac272ed218"
      },
      "outputs": [
        {
          "output_type": "stream",
          "name": "stdout",
          "text": [
            "Fitting 10 folds for each of 1 candidates, totalling 10 fits\n",
            "svm-original Melhor: 0.7625 usando {'svm__C': 10, 'svm__gamma': 0.01, 'svm__kernel': 'rbf'}\n",
            "Fitting 10 folds for each of 1 candidates, totalling 10 fits\n",
            "svm-standard Melhor: 0.8147 usando {'svm__C': 10, 'svm__gamma': 0.01, 'svm__kernel': 'rbf'}\n",
            "Fitting 10 folds for each of 1 candidates, totalling 10 fits\n",
            "svm-normalization Melhor: 0.7823 usando {'svm__C': 10, 'svm__gamma': 0.01, 'svm__kernel': 'rbf'}\n"
          ]
        }
      ],
      "source": [
        "np.random.seed(SEED)\n",
        "\n",
        "pipelines = {}\n",
        "\n",
        "algorithms = {\n",
        "    'svm': SVC()\n",
        "}\n",
        "\n",
        "set_pipelines(preprocessors, algorithms, pipelines)\n",
        "\n",
        "param_grid = {\n",
        "    'svm__kernel': ['linear', 'rbf'],\n",
        "    'svm__C': [0.1, 1, 10, 100],\n",
        "    'svm__gamma': ['scale', 'auto', 0.01, 0.1, 1]\n",
        "}\n",
        "\n",
        "param_grid_best = {\n",
        "    'svm__kernel': ['rbf'],\n",
        "    'svm__C': [10],\n",
        "    'svm__gamma': [0.01]\n",
        "}\n",
        "\n",
        "for name, model in pipelines.items():\n",
        "    grid = GridSearchCV(\n",
        "    estimator=model,\n",
        "    param_grid=param_grid_best,\n",
        "    cv=kfold,\n",
        "    scoring=SCORING,\n",
        "    n_jobs=-1,\n",
        "    verbose=1\n",
        ")\n",
        "    grid.fit(X_train, y_train)\n",
        "\n",
        "    print(\"%s Melhor: %.4f usando %s\" %\n",
        "          (name, grid.best_score_, grid.best_params_))"
      ]
    },
    {
      "cell_type": "markdown",
      "metadata": {
        "id": "s4KzXBu_lIiI"
      },
      "source": [
        "### Conclusão do modelo\n"
      ]
    },
    {
      "cell_type": "markdown",
      "metadata": {
        "id": "FDVtJJ10p8p4"
      },
      "source": [
        "Após estimar o algoritmo com melhor acurácia para a tarefa em questão, montei manualmente o modelo utilizando esse algoritmo e com a base de treino padronizada. A técnica de padronização foi escolhida frente a de normalização e de ausência de tratamento pois apresentou melhor resultado.<br />\n",
        "Apliquei o mesmo padrão aos dados de teste e fiz a predição desses dados pelo modelo. A pontuação de acurácia obtida reflete a performance do modelo ao prever os dados de teste em comparação com seus valores reais.<br />\n",
        "Por último, toda a base de dados foi padronizada (com um novo ajuste do scaler) e o modelo foi re-treinado com todos os dados disponíveis."
      ]
    },
    {
      "cell_type": "code",
      "execution_count": null,
      "metadata": {
        "colab": {
          "base_uri": "https://localhost:8080/"
        },
        "id": "xpdBnnyzlWBr",
        "outputId": "20c14d92-8c34-40bd-dbe9-16cae1e4d725"
      },
      "outputs": [
        {
          "output_type": "stream",
          "name": "stdout",
          "text": [
            "83.24%\n"
          ]
        },
        {
          "output_type": "execute_result",
          "data": {
            "text/plain": [
              "SVC(C=10, gamma=0.01)"
            ],
            "text/html": [
              "<style>#sk-container-id-6 {\n",
              "  /* Definition of color scheme common for light and dark mode */\n",
              "  --sklearn-color-text: #000;\n",
              "  --sklearn-color-text-muted: #666;\n",
              "  --sklearn-color-line: gray;\n",
              "  /* Definition of color scheme for unfitted estimators */\n",
              "  --sklearn-color-unfitted-level-0: #fff5e6;\n",
              "  --sklearn-color-unfitted-level-1: #f6e4d2;\n",
              "  --sklearn-color-unfitted-level-2: #ffe0b3;\n",
              "  --sklearn-color-unfitted-level-3: chocolate;\n",
              "  /* Definition of color scheme for fitted estimators */\n",
              "  --sklearn-color-fitted-level-0: #f0f8ff;\n",
              "  --sklearn-color-fitted-level-1: #d4ebff;\n",
              "  --sklearn-color-fitted-level-2: #b3dbfd;\n",
              "  --sklearn-color-fitted-level-3: cornflowerblue;\n",
              "\n",
              "  /* Specific color for light theme */\n",
              "  --sklearn-color-text-on-default-background: var(--sg-text-color, var(--theme-code-foreground, var(--jp-content-font-color1, black)));\n",
              "  --sklearn-color-background: var(--sg-background-color, var(--theme-background, var(--jp-layout-color0, white)));\n",
              "  --sklearn-color-border-box: var(--sg-text-color, var(--theme-code-foreground, var(--jp-content-font-color1, black)));\n",
              "  --sklearn-color-icon: #696969;\n",
              "\n",
              "  @media (prefers-color-scheme: dark) {\n",
              "    /* Redefinition of color scheme for dark theme */\n",
              "    --sklearn-color-text-on-default-background: var(--sg-text-color, var(--theme-code-foreground, var(--jp-content-font-color1, white)));\n",
              "    --sklearn-color-background: var(--sg-background-color, var(--theme-background, var(--jp-layout-color0, #111)));\n",
              "    --sklearn-color-border-box: var(--sg-text-color, var(--theme-code-foreground, var(--jp-content-font-color1, white)));\n",
              "    --sklearn-color-icon: #878787;\n",
              "  }\n",
              "}\n",
              "\n",
              "#sk-container-id-6 {\n",
              "  color: var(--sklearn-color-text);\n",
              "}\n",
              "\n",
              "#sk-container-id-6 pre {\n",
              "  padding: 0;\n",
              "}\n",
              "\n",
              "#sk-container-id-6 input.sk-hidden--visually {\n",
              "  border: 0;\n",
              "  clip: rect(1px 1px 1px 1px);\n",
              "  clip: rect(1px, 1px, 1px, 1px);\n",
              "  height: 1px;\n",
              "  margin: -1px;\n",
              "  overflow: hidden;\n",
              "  padding: 0;\n",
              "  position: absolute;\n",
              "  width: 1px;\n",
              "}\n",
              "\n",
              "#sk-container-id-6 div.sk-dashed-wrapped {\n",
              "  border: 1px dashed var(--sklearn-color-line);\n",
              "  margin: 0 0.4em 0.5em 0.4em;\n",
              "  box-sizing: border-box;\n",
              "  padding-bottom: 0.4em;\n",
              "  background-color: var(--sklearn-color-background);\n",
              "}\n",
              "\n",
              "#sk-container-id-6 div.sk-container {\n",
              "  /* jupyter's `normalize.less` sets `[hidden] { display: none; }`\n",
              "     but bootstrap.min.css set `[hidden] { display: none !important; }`\n",
              "     so we also need the `!important` here to be able to override the\n",
              "     default hidden behavior on the sphinx rendered scikit-learn.org.\n",
              "     See: https://github.com/scikit-learn/scikit-learn/issues/21755 */\n",
              "  display: inline-block !important;\n",
              "  position: relative;\n",
              "}\n",
              "\n",
              "#sk-container-id-6 div.sk-text-repr-fallback {\n",
              "  display: none;\n",
              "}\n",
              "\n",
              "div.sk-parallel-item,\n",
              "div.sk-serial,\n",
              "div.sk-item {\n",
              "  /* draw centered vertical line to link estimators */\n",
              "  background-image: linear-gradient(var(--sklearn-color-text-on-default-background), var(--sklearn-color-text-on-default-background));\n",
              "  background-size: 2px 100%;\n",
              "  background-repeat: no-repeat;\n",
              "  background-position: center center;\n",
              "}\n",
              "\n",
              "/* Parallel-specific style estimator block */\n",
              "\n",
              "#sk-container-id-6 div.sk-parallel-item::after {\n",
              "  content: \"\";\n",
              "  width: 100%;\n",
              "  border-bottom: 2px solid var(--sklearn-color-text-on-default-background);\n",
              "  flex-grow: 1;\n",
              "}\n",
              "\n",
              "#sk-container-id-6 div.sk-parallel {\n",
              "  display: flex;\n",
              "  align-items: stretch;\n",
              "  justify-content: center;\n",
              "  background-color: var(--sklearn-color-background);\n",
              "  position: relative;\n",
              "}\n",
              "\n",
              "#sk-container-id-6 div.sk-parallel-item {\n",
              "  display: flex;\n",
              "  flex-direction: column;\n",
              "}\n",
              "\n",
              "#sk-container-id-6 div.sk-parallel-item:first-child::after {\n",
              "  align-self: flex-end;\n",
              "  width: 50%;\n",
              "}\n",
              "\n",
              "#sk-container-id-6 div.sk-parallel-item:last-child::after {\n",
              "  align-self: flex-start;\n",
              "  width: 50%;\n",
              "}\n",
              "\n",
              "#sk-container-id-6 div.sk-parallel-item:only-child::after {\n",
              "  width: 0;\n",
              "}\n",
              "\n",
              "/* Serial-specific style estimator block */\n",
              "\n",
              "#sk-container-id-6 div.sk-serial {\n",
              "  display: flex;\n",
              "  flex-direction: column;\n",
              "  align-items: center;\n",
              "  background-color: var(--sklearn-color-background);\n",
              "  padding-right: 1em;\n",
              "  padding-left: 1em;\n",
              "}\n",
              "\n",
              "\n",
              "/* Toggleable style: style used for estimator/Pipeline/ColumnTransformer box that is\n",
              "clickable and can be expanded/collapsed.\n",
              "- Pipeline and ColumnTransformer use this feature and define the default style\n",
              "- Estimators will overwrite some part of the style using the `sk-estimator` class\n",
              "*/\n",
              "\n",
              "/* Pipeline and ColumnTransformer style (default) */\n",
              "\n",
              "#sk-container-id-6 div.sk-toggleable {\n",
              "  /* Default theme specific background. It is overwritten whether we have a\n",
              "  specific estimator or a Pipeline/ColumnTransformer */\n",
              "  background-color: var(--sklearn-color-background);\n",
              "}\n",
              "\n",
              "/* Toggleable label */\n",
              "#sk-container-id-6 label.sk-toggleable__label {\n",
              "  cursor: pointer;\n",
              "  display: flex;\n",
              "  width: 100%;\n",
              "  margin-bottom: 0;\n",
              "  padding: 0.5em;\n",
              "  box-sizing: border-box;\n",
              "  text-align: center;\n",
              "  align-items: start;\n",
              "  justify-content: space-between;\n",
              "  gap: 0.5em;\n",
              "}\n",
              "\n",
              "#sk-container-id-6 label.sk-toggleable__label .caption {\n",
              "  font-size: 0.6rem;\n",
              "  font-weight: lighter;\n",
              "  color: var(--sklearn-color-text-muted);\n",
              "}\n",
              "\n",
              "#sk-container-id-6 label.sk-toggleable__label-arrow:before {\n",
              "  /* Arrow on the left of the label */\n",
              "  content: \"▸\";\n",
              "  float: left;\n",
              "  margin-right: 0.25em;\n",
              "  color: var(--sklearn-color-icon);\n",
              "}\n",
              "\n",
              "#sk-container-id-6 label.sk-toggleable__label-arrow:hover:before {\n",
              "  color: var(--sklearn-color-text);\n",
              "}\n",
              "\n",
              "/* Toggleable content - dropdown */\n",
              "\n",
              "#sk-container-id-6 div.sk-toggleable__content {\n",
              "  max-height: 0;\n",
              "  max-width: 0;\n",
              "  overflow: hidden;\n",
              "  text-align: left;\n",
              "  /* unfitted */\n",
              "  background-color: var(--sklearn-color-unfitted-level-0);\n",
              "}\n",
              "\n",
              "#sk-container-id-6 div.sk-toggleable__content.fitted {\n",
              "  /* fitted */\n",
              "  background-color: var(--sklearn-color-fitted-level-0);\n",
              "}\n",
              "\n",
              "#sk-container-id-6 div.sk-toggleable__content pre {\n",
              "  margin: 0.2em;\n",
              "  border-radius: 0.25em;\n",
              "  color: var(--sklearn-color-text);\n",
              "  /* unfitted */\n",
              "  background-color: var(--sklearn-color-unfitted-level-0);\n",
              "}\n",
              "\n",
              "#sk-container-id-6 div.sk-toggleable__content.fitted pre {\n",
              "  /* unfitted */\n",
              "  background-color: var(--sklearn-color-fitted-level-0);\n",
              "}\n",
              "\n",
              "#sk-container-id-6 input.sk-toggleable__control:checked~div.sk-toggleable__content {\n",
              "  /* Expand drop-down */\n",
              "  max-height: 200px;\n",
              "  max-width: 100%;\n",
              "  overflow: auto;\n",
              "}\n",
              "\n",
              "#sk-container-id-6 input.sk-toggleable__control:checked~label.sk-toggleable__label-arrow:before {\n",
              "  content: \"▾\";\n",
              "}\n",
              "\n",
              "/* Pipeline/ColumnTransformer-specific style */\n",
              "\n",
              "#sk-container-id-6 div.sk-label input.sk-toggleable__control:checked~label.sk-toggleable__label {\n",
              "  color: var(--sklearn-color-text);\n",
              "  background-color: var(--sklearn-color-unfitted-level-2);\n",
              "}\n",
              "\n",
              "#sk-container-id-6 div.sk-label.fitted input.sk-toggleable__control:checked~label.sk-toggleable__label {\n",
              "  background-color: var(--sklearn-color-fitted-level-2);\n",
              "}\n",
              "\n",
              "/* Estimator-specific style */\n",
              "\n",
              "/* Colorize estimator box */\n",
              "#sk-container-id-6 div.sk-estimator input.sk-toggleable__control:checked~label.sk-toggleable__label {\n",
              "  /* unfitted */\n",
              "  background-color: var(--sklearn-color-unfitted-level-2);\n",
              "}\n",
              "\n",
              "#sk-container-id-6 div.sk-estimator.fitted input.sk-toggleable__control:checked~label.sk-toggleable__label {\n",
              "  /* fitted */\n",
              "  background-color: var(--sklearn-color-fitted-level-2);\n",
              "}\n",
              "\n",
              "#sk-container-id-6 div.sk-label label.sk-toggleable__label,\n",
              "#sk-container-id-6 div.sk-label label {\n",
              "  /* The background is the default theme color */\n",
              "  color: var(--sklearn-color-text-on-default-background);\n",
              "}\n",
              "\n",
              "/* On hover, darken the color of the background */\n",
              "#sk-container-id-6 div.sk-label:hover label.sk-toggleable__label {\n",
              "  color: var(--sklearn-color-text);\n",
              "  background-color: var(--sklearn-color-unfitted-level-2);\n",
              "}\n",
              "\n",
              "/* Label box, darken color on hover, fitted */\n",
              "#sk-container-id-6 div.sk-label.fitted:hover label.sk-toggleable__label.fitted {\n",
              "  color: var(--sklearn-color-text);\n",
              "  background-color: var(--sklearn-color-fitted-level-2);\n",
              "}\n",
              "\n",
              "/* Estimator label */\n",
              "\n",
              "#sk-container-id-6 div.sk-label label {\n",
              "  font-family: monospace;\n",
              "  font-weight: bold;\n",
              "  display: inline-block;\n",
              "  line-height: 1.2em;\n",
              "}\n",
              "\n",
              "#sk-container-id-6 div.sk-label-container {\n",
              "  text-align: center;\n",
              "}\n",
              "\n",
              "/* Estimator-specific */\n",
              "#sk-container-id-6 div.sk-estimator {\n",
              "  font-family: monospace;\n",
              "  border: 1px dotted var(--sklearn-color-border-box);\n",
              "  border-radius: 0.25em;\n",
              "  box-sizing: border-box;\n",
              "  margin-bottom: 0.5em;\n",
              "  /* unfitted */\n",
              "  background-color: var(--sklearn-color-unfitted-level-0);\n",
              "}\n",
              "\n",
              "#sk-container-id-6 div.sk-estimator.fitted {\n",
              "  /* fitted */\n",
              "  background-color: var(--sklearn-color-fitted-level-0);\n",
              "}\n",
              "\n",
              "/* on hover */\n",
              "#sk-container-id-6 div.sk-estimator:hover {\n",
              "  /* unfitted */\n",
              "  background-color: var(--sklearn-color-unfitted-level-2);\n",
              "}\n",
              "\n",
              "#sk-container-id-6 div.sk-estimator.fitted:hover {\n",
              "  /* fitted */\n",
              "  background-color: var(--sklearn-color-fitted-level-2);\n",
              "}\n",
              "\n",
              "/* Specification for estimator info (e.g. \"i\" and \"?\") */\n",
              "\n",
              "/* Common style for \"i\" and \"?\" */\n",
              "\n",
              ".sk-estimator-doc-link,\n",
              "a:link.sk-estimator-doc-link,\n",
              "a:visited.sk-estimator-doc-link {\n",
              "  float: right;\n",
              "  font-size: smaller;\n",
              "  line-height: 1em;\n",
              "  font-family: monospace;\n",
              "  background-color: var(--sklearn-color-background);\n",
              "  border-radius: 1em;\n",
              "  height: 1em;\n",
              "  width: 1em;\n",
              "  text-decoration: none !important;\n",
              "  margin-left: 0.5em;\n",
              "  text-align: center;\n",
              "  /* unfitted */\n",
              "  border: var(--sklearn-color-unfitted-level-1) 1pt solid;\n",
              "  color: var(--sklearn-color-unfitted-level-1);\n",
              "}\n",
              "\n",
              ".sk-estimator-doc-link.fitted,\n",
              "a:link.sk-estimator-doc-link.fitted,\n",
              "a:visited.sk-estimator-doc-link.fitted {\n",
              "  /* fitted */\n",
              "  border: var(--sklearn-color-fitted-level-1) 1pt solid;\n",
              "  color: var(--sklearn-color-fitted-level-1);\n",
              "}\n",
              "\n",
              "/* On hover */\n",
              "div.sk-estimator:hover .sk-estimator-doc-link:hover,\n",
              ".sk-estimator-doc-link:hover,\n",
              "div.sk-label-container:hover .sk-estimator-doc-link:hover,\n",
              ".sk-estimator-doc-link:hover {\n",
              "  /* unfitted */\n",
              "  background-color: var(--sklearn-color-unfitted-level-3);\n",
              "  color: var(--sklearn-color-background);\n",
              "  text-decoration: none;\n",
              "}\n",
              "\n",
              "div.sk-estimator.fitted:hover .sk-estimator-doc-link.fitted:hover,\n",
              ".sk-estimator-doc-link.fitted:hover,\n",
              "div.sk-label-container:hover .sk-estimator-doc-link.fitted:hover,\n",
              ".sk-estimator-doc-link.fitted:hover {\n",
              "  /* fitted */\n",
              "  background-color: var(--sklearn-color-fitted-level-3);\n",
              "  color: var(--sklearn-color-background);\n",
              "  text-decoration: none;\n",
              "}\n",
              "\n",
              "/* Span, style for the box shown on hovering the info icon */\n",
              ".sk-estimator-doc-link span {\n",
              "  display: none;\n",
              "  z-index: 9999;\n",
              "  position: relative;\n",
              "  font-weight: normal;\n",
              "  right: .2ex;\n",
              "  padding: .5ex;\n",
              "  margin: .5ex;\n",
              "  width: min-content;\n",
              "  min-width: 20ex;\n",
              "  max-width: 50ex;\n",
              "  color: var(--sklearn-color-text);\n",
              "  box-shadow: 2pt 2pt 4pt #999;\n",
              "  /* unfitted */\n",
              "  background: var(--sklearn-color-unfitted-level-0);\n",
              "  border: .5pt solid var(--sklearn-color-unfitted-level-3);\n",
              "}\n",
              "\n",
              ".sk-estimator-doc-link.fitted span {\n",
              "  /* fitted */\n",
              "  background: var(--sklearn-color-fitted-level-0);\n",
              "  border: var(--sklearn-color-fitted-level-3);\n",
              "}\n",
              "\n",
              ".sk-estimator-doc-link:hover span {\n",
              "  display: block;\n",
              "}\n",
              "\n",
              "/* \"?\"-specific style due to the `<a>` HTML tag */\n",
              "\n",
              "#sk-container-id-6 a.estimator_doc_link {\n",
              "  float: right;\n",
              "  font-size: 1rem;\n",
              "  line-height: 1em;\n",
              "  font-family: monospace;\n",
              "  background-color: var(--sklearn-color-background);\n",
              "  border-radius: 1rem;\n",
              "  height: 1rem;\n",
              "  width: 1rem;\n",
              "  text-decoration: none;\n",
              "  /* unfitted */\n",
              "  color: var(--sklearn-color-unfitted-level-1);\n",
              "  border: var(--sklearn-color-unfitted-level-1) 1pt solid;\n",
              "}\n",
              "\n",
              "#sk-container-id-6 a.estimator_doc_link.fitted {\n",
              "  /* fitted */\n",
              "  border: var(--sklearn-color-fitted-level-1) 1pt solid;\n",
              "  color: var(--sklearn-color-fitted-level-1);\n",
              "}\n",
              "\n",
              "/* On hover */\n",
              "#sk-container-id-6 a.estimator_doc_link:hover {\n",
              "  /* unfitted */\n",
              "  background-color: var(--sklearn-color-unfitted-level-3);\n",
              "  color: var(--sklearn-color-background);\n",
              "  text-decoration: none;\n",
              "}\n",
              "\n",
              "#sk-container-id-6 a.estimator_doc_link.fitted:hover {\n",
              "  /* fitted */\n",
              "  background-color: var(--sklearn-color-fitted-level-3);\n",
              "}\n",
              "</style><div id=\"sk-container-id-6\" class=\"sk-top-container\"><div class=\"sk-text-repr-fallback\"><pre>SVC(C=10, gamma=0.01)</pre><b>In a Jupyter environment, please rerun this cell to show the HTML representation or trust the notebook. <br />On GitHub, the HTML representation is unable to render, please try loading this page with nbviewer.org.</b></div><div class=\"sk-container\" hidden><div class=\"sk-item\"><div class=\"sk-estimator fitted sk-toggleable\"><input class=\"sk-toggleable__control sk-hidden--visually\" id=\"sk-estimator-id-6\" type=\"checkbox\" checked><label for=\"sk-estimator-id-6\" class=\"sk-toggleable__label fitted sk-toggleable__label-arrow\"><div><div>SVC</div></div><div><a class=\"sk-estimator-doc-link fitted\" rel=\"noreferrer\" target=\"_blank\" href=\"https://scikit-learn.org/1.6/modules/generated/sklearn.svm.SVC.html\">?<span>Documentation for SVC</span></a><span class=\"sk-estimator-doc-link fitted\">i<span>Fitted</span></span></div></label><div class=\"sk-toggleable__content fitted\"><pre>SVC(C=10, gamma=0.01)</pre></div> </div></div></div></div>"
            ]
          },
          "metadata": {},
          "execution_count": 68
        }
      ],
      "source": [
        "scaler = StandardScaler().fit(X_train)\n",
        "scaledTrainX = scaler.transform(X_train)\n",
        "scaledTestX = scaler.transform(X_test)\n",
        "\n",
        "model = SVC(kernel='rbf', C=10, gamma=0.01)\n",
        "model.fit(scaledTrainX, y_train)\n",
        "predictions = model.predict(scaledTestX)\n",
        "print(\"%.2f%%\" % (accuracy_score(y_test, predictions) * 100))\n",
        "\n",
        "scaler = StandardScaler().fit(X)\n",
        "scaledX = scaler.transform(X)\n",
        "model.fit(scaledX, y)"
      ]
    },
    {
      "cell_type": "markdown",
      "metadata": {
        "id": "xZYIA9TklVm6"
      },
      "source": [
        "###Exportação do modelo, *encoders*, *scalers* e arquivos"
      ]
    },
    {
      "cell_type": "code",
      "execution_count": null,
      "metadata": {
        "id": "3zVAAQ_7IZXS"
      },
      "outputs": [],
      "source": [
        "preprocessor = {\n",
        "    \"age_medians\": age_medians,\n",
        "    \"age_medians_overall\": age_medians_overall,\n",
        "    \"embarked_mode_pclass1\": embarked_mode_pclass1,\n",
        "    \"sex_encoder\": le,\n",
        "    \"embarked_cols\": [col for col in df.columns if col.startswith('Embarked')],\n",
        "    \"scaler\": scaler\n",
        "}\n",
        "\n",
        "with open('titanic_model_bundle.pkl', 'wb') as f:\n",
        "    pickle.dump({\n",
        "        \"model\": model,\n",
        "        \"preprocessor\": preprocessor\n",
        "    }, f)\n",
        "\n",
        "y_test_df = y_test.to_frame()\n",
        "test_df = pd.concat([X_test, y_test_df], axis=1)\n",
        "test_df.to_csv(\"test_dataset_titanic.csv\", index=False)"
      ]
    },
    {
      "cell_type": "markdown",
      "metadata": {
        "id": "Loi1a4gTIau7"
      },
      "source": [
        "##Conclusão"
      ]
    },
    {
      "cell_type": "markdown",
      "metadata": {
        "id": "k1RlzbGrsXgs"
      },
      "source": [
        "O desenvolvimento desta tarefa, aliado ao conhecimento adquirido nas disciplinas estudadas,  foi fundamental para o aprofundamento do aprendizado e compreensão do processo de resolução de um problema de classificação. Os principais pontos de aprendizado foram:\n",
        "*   Antes de iniciar qualquer codificação, foi importante realizar um estudo prévio dos dados e de seus atributos, compreendendo seus significados, identificando possíveis correlações e formulando hipóteses iniciais (por exemplo, pessoas portando tickets de classes mais altas teriam maior chance de sobrevivência do que aquelas portadoras de tickets de classe baixa).\n",
        "*   A necessidade de tratar os atributos para adequar os dados ao formato exigido pelos algoritmos do **scikit-learn**, e como lidar com o preenchimento de dados ausentes, exigiu um nível de compreensão do problema. Essa etapa não pôde ser feita de maneira arbitrária, tendo sido necessário interpretar o contexto dos dados para garantir que os ajustes fossem coerentes, algo que foi facilitado pela análise inicial.\n",
        "*   Existem algoritmos que são consideravelmente mais sensíveis ao redimensionamento (normalização e padronização) dos dados, o que impacta diretamente em seus desempenhos.\n",
        "*   A busca pela melhor combinação de hiperparâmetros pode demandar um custo computacional elevado, especialmente técnicas como *grid search* em modelos mais complexos.\n",
        "\n",
        "A seguir, apresento uma análise dos resultados obtidos pelos algoritmos, com ênfase na comparação das médias de acurácia antes e após a aplicação de técnicas de pré-processamento:\n",
        "\n",
        "|Algoritmo       | Pré-processamento | Média Original | Média Pós | Melhora (%) |\n",
        "| --------------- | ----------------- | -------------- | --------- | ----------- |\n",
        "| **SVM**         | Padronização      | 0.6700         | 0.8062    | +20,33% |\n",
        "| **SVM**         | Normalização      | 0.6700         | 0.7964    | +18,87%     |\n",
        "| **KNN**         | Padronização      | 0.7078         | 0.7922    | +11,92% |\n",
        "| **KNN**         | Normalização      | 0.7078         | 0.7880    | +11,33%     |\n",
        "| **CART**        | Padronização      | 0.7514         | 0.7654    | +1,86%  |\n",
        "| **CART**        | Normalização      | 0.7514         | 0.7612    | +1,30%      |\n",
        "| **Naive Bayes** | Todos             | 0.7781         | 0.7781    | 0%   |\n",
        "\n",
        "Os resultados obtidos confirmam a teoria: algoritmos baseados em distância, como o SVM e o KNN, demonstraram-se bastante sensíveis ao redimensionamento dos dados, com melhorias significativas nas médias de acurácia. <br />\n",
        "Por outro lado, o algoritmo baseado em árvore (CART) teve apenas uma melhora marginal com o redimensionamento. Já o Naive Bayes, que opera com base em probabilidades condicionais, mostrou-se totalmente insensível ao pré-processamento neste caso, mantendo a mesma média de acurácia independentemente da técnica aplicada.\n",
        "Após essa análise, selecionei o algoritmo com melhor desempenho (SVM com padronização) para ajuste fino de hiperparâmetros. Inicialmente, explorei um conjunto abrangente de combinações (400 no total), obtendo os seguintes resultados:\n",
        "\n",
        "|Algoritmo       | Pré-processamento | Média Original | Média Pós | Melhora (%) | C | gamma | kernel |\n",
        "| --------------- | ----------------- | -------------- | --------- | ----------- | --------- | --------- | --------- |\n",
        "| **SVM**         | Padronização      | 0.8062         | 0.8147    | +1,05% | 10 | 0.01 | rbf |\n",
        "| **SVM**         | Normalização      | 0.7964         | 0.8048    | +1,05%  | 10 | 1 | rbf |\n",
        "| **SVM**         | Nenhum      | 0.6700         | 0.7907    | +18,01% | 1 | scale | linear |\n",
        "\n",
        "Observou-se que a aplicação de hiperparâmetros pode, em certos casos, mitigar parcialmente a ausência de um bom pré-processamento. Por exemplo, o uso de um gamma menor suavizou o impacto de variações na escala, enquanto um valor mais alto de C permitiu ao modelo capturar padrões mais complexos. No entanto, a combinação entre pré-processamento adequado e ajuste fino de parâmetros resultou no melhor desempenho geral.\n",
        "O algoritmo SVM demonstrou ser particularmente sensível ao ajuste de hiperparâmetros, já que o parâmetro C influencia o equilíbrio entre viés e variância do modelo, enquanto gamma afeta a complexidade da fronteira de decisão — definindo o quanto cada amostra influencia o formato da superfície de separação.\n",
        "\n",
        "Após a realização de diversas etapas — incluindo o tratamento dos dados, o pré-processamento e o ajuste de hiperparâmetros — foi possível treinar um modelo com média de acurácia em torno de 81%, demonstrando boa capacidade de lidar com o problema de classificação do Titanic."
      ]
    }
  ],
  "metadata": {
    "colab": {
      "provenance": [],
      "collapsed_sections": [
        "OQX6TGHMZ8wZ",
        "XlFTLACYOMmo",
        "qd87Y_fBItxw",
        "P66X4a8Xzg2i",
        "WEOvMsFpUoiE",
        "RCCvju2s7C79",
        "loAz-s-0NhoE",
        "w0jsjX24UCUg",
        "s4KzXBu_lIiI",
        "xZYIA9TklVm6",
        "Loi1a4gTIau7"
      ]
    },
    "kernelspec": {
      "display_name": "Python 3",
      "name": "python3"
    },
    "language_info": {
      "name": "python"
    }
  },
  "nbformat": 4,
  "nbformat_minor": 0
}